{
 "cells": [
  {
   "cell_type": "code",
   "execution_count": 1,
   "metadata": {},
   "outputs": [
    {
     "ename": "ModuleNotFoundError",
     "evalue": "No module named 'selenium'",
     "output_type": "error",
     "traceback": [
      "\u001b[1;31m---------------------------------------------------------------------------\u001b[0m",
      "\u001b[1;31mModuleNotFoundError\u001b[0m                       Traceback (most recent call last)",
      "\u001b[1;32m<ipython-input-1-fb9e1852a987>\u001b[0m in \u001b[0;36m<module>\u001b[1;34m\u001b[0m\n\u001b[0;32m      1\u001b[0m \u001b[1;31m# Ferbruary 2, 2020 - March 23, 2020\u001b[0m\u001b[1;33m\u001b[0m\u001b[1;33m\u001b[0m\u001b[1;33m\u001b[0m\u001b[0m\n\u001b[0;32m      2\u001b[0m \u001b[1;32mimport\u001b[0m \u001b[0mpandas\u001b[0m \u001b[1;32mas\u001b[0m \u001b[0mpd\u001b[0m\u001b[1;33m\u001b[0m\u001b[1;33m\u001b[0m\u001b[0m\n\u001b[1;32m----> 3\u001b[1;33m \u001b[1;32mfrom\u001b[0m \u001b[0mselenium\u001b[0m \u001b[1;32mimport\u001b[0m \u001b[0mwebdriver\u001b[0m\u001b[1;33m\u001b[0m\u001b[1;33m\u001b[0m\u001b[0m\n\u001b[0m\u001b[0;32m      4\u001b[0m \u001b[1;32mimport\u001b[0m \u001b[0mquandl\u001b[0m\u001b[1;33m\u001b[0m\u001b[1;33m\u001b[0m\u001b[0m\n",
      "\u001b[1;31mModuleNotFoundError\u001b[0m: No module named 'selenium'"
     ]
    }
   ],
   "source": [
    "# Ferbruary 2, 2020 - March 23, 2020\n",
    "import pandas as pd\n",
    "from selenium import webdriver\n",
    "import quandl"
   ]
  },
  {
   "cell_type": "code",
   "execution_count": null,
   "metadata": {},
   "outputs": [],
   "source": [
    "class sectordf:\n",
    "    nasdaq_url = 'https://www.nasdaq.com/market-activity/stocks/screener?exchange=nyse&letter=0&render=download'\n",
    "    def __init__(self, website='nasdaq', sector='universal'):\n",
    "        if website.lower()='nasdaq':\n",
    "            if sector.lower()='universal':\n",
    "                pass\n",
    "            if sector.lower()=''\n",
    "    def nasdaq_get_sect():\n",
    "        pass\n",
    "    "
   ]
  },
  {
   "cell_type": "code",
   "execution_count": null,
   "metadata": {},
   "outputs": [],
   "source": [
    "# TODO: identify the weather variables (they are a list of the avg weather of the country on the days feb-march)\n",
    "# 'avg_w_US' is 'Average weather in the United States'\n",
    "uniinitialcolumns = {'avg_w_US': [avg_w_US], 'avg_w_CHINA': [avg_w_CHINA], 'avg_w_JAPAN': [avg_w_JAPAN], \n",
    "                  'avg_w_GERMANY': [avg_w_GERMANY], 'avg_w_INDIA': [avg_w_INDIA], 'avg_w_UK': [avg_w_UK], \n",
    "                  'avg_w_ALL': [avg_w_ALL]}\n",
    "# 'unidata3' is 'Universal dataset number three'\n",
    "unidata3 = pd.DataFrame(data = initialcolumns)"
   ]
  },
  {
   "cell_type": "code",
   "execution_count": null,
   "metadata": {},
   "outputs": [],
   "source": []
  }
 ],
 "metadata": {
  "kernelspec": {
   "display_name": "Python 3",
   "language": "python",
   "name": "python3"
  },
  "language_info": {
   "codemirror_mode": {
    "name": "ipython",
    "version": 3
   },
   "file_extension": ".py",
   "mimetype": "text/x-python",
   "name": "python",
   "nbconvert_exporter": "python",
   "pygments_lexer": "ipython3",
   "version": "3.7.6"
  }
 },
 "nbformat": 4,
 "nbformat_minor": 4
}
